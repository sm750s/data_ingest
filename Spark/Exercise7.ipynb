{
 "cells": [
  {
   "cell_type": "code",
   "execution_count": 10,
   "metadata": {
    "collapsed": true
   },
   "outputs": [],
   "source": [
    "from pyspark import StorageLevel\n",
    "\n",
    "# Stub code to paste into the shell\n",
    "\n",
    "sc.setLogLevel(\"WARN\")\n",
    "\n",
    "# Count web server log requests by user id\n",
    "userReqs = sc.textFile(\"/loudacre/weblogs/*2.log\")\\\n",
    "  .map(lambda line: line.split()) \\\n",
    "  .map(lambda words: (words[2],1)) \\\n",
    "  .reduceByKey(lambda v1,v2: v1+v2)\n",
    "\n",
    "# Map account data to (userid,\"lastname,firstname\") pairs\n",
    "accounts = sc.textFile(\"/loudacre/accounts/*\")\\\n",
    "  .map(lambda s: s.split(',')) \\\n",
    "  .map(lambda values: (values[0],values[4] + ',' + values[3]))\n",
    "\n",
    "# Join account names with request counts\n",
    "accountHits=accounts.join(userReqs)\\\n",
    "  .map(lambda (userid,values): values) \n"
   ]
  },
  {
   "cell_type": "code",
   "execution_count": null,
   "metadata": {
    "collapsed": true
   },
   "outputs": [],
   "source": []
  },
  {
   "cell_type": "code",
   "execution_count": 14,
   "metadata": {
    "collapsed": false
   },
   "outputs": [
    {
     "data": {
      "text/plain": [
       "5872"
      ]
     },
     "execution_count": 14,
     "metadata": {},
     "output_type": "execute_result"
    }
   ],
   "source": [
    "accountHits.filter(lambda (firstlast, hitcount): hitcount > 5)\\\n",
    "    .count()"
   ]
  },
  {
   "cell_type": "code",
   "execution_count": 12,
   "metadata": {
    "collapsed": false
   },
   "outputs": [
    {
     "data": {
      "text/plain": [
       "PythonRDD[79] at RDD at PythonRDD.scala:43"
      ]
     },
     "execution_count": 12,
     "metadata": {},
     "output_type": "execute_result"
    }
   ],
   "source": [
    "accountHits.persist()"
   ]
  },
  {
   "cell_type": "code",
   "execution_count": 15,
   "metadata": {
    "collapsed": false
   },
   "outputs": [
    {
     "name": "stdout",
     "output_type": "stream",
     "text": [
      "(23) PythonRDD[79] at RDD at PythonRDD.scala:43 [Memory Serialized 1x Replicated]\n",
      " |        CachedPartitions: 23; MemorySize: 311.2 KB; ExternalBlockStoreSize: 0.0 B; DiskSize: 0.0 B\n",
      " |   MapPartitionsRDD[77] at mapPartitions at PythonRDD.scala:374 [Memory Serialized 1x Replicated]\n",
      " |   ShuffledRDD[76] at partitionBy at NativeMethodAccessorImpl.java:-2 [Memory Serialized 1x Replicated]\n",
      " +-(23) PairwiseRDD[75] at join at <ipython-input-10-86bfd874cd9a>:14 [Memory Serialized 1x Replicated]\n",
      "    |   PythonRDD[74] at join at <ipython-input-10-86bfd874cd9a>:14 [Memory Serialized 1x Replicated]\n",
      "    |   UnionRDD[73] at union at NativeMethodAccessorImpl.java:-2 [Memory Serialized 1x Replicated]\n",
      "    |   PythonRDD[71] at RDD at PythonRDD.scala:43 [Memory Serialized 1x Replicated]\n",
      "    |   /loudacre/accounts/* MapPartitionsRDD[70] at textFile at NativeMethodAccessorImpl.java:-2 [Memory Serialized 1x Replicated]\n",
      "    |   /loudacre/accounts/* HadoopRDD[69] at textFile at NativeMethodAccessorImpl.java:-2 [Memory Serialized 1x Replicated]\n",
      "    |   PythonRDD[72] at RDD at PythonRDD.scala:43 [Memory Serialized 1x Replicated]\n",
      "    |   MapPartitionsRDD[68] at mapPartitions at PythonRDD.scala:374 [Memory Serialized 1x Replicated]\n",
      "    |   ShuffledRDD[67] at partitionBy at NativeMethodAccessorImpl.java:-2 [Memory Serialized 1x Replicated]\n",
      "    +-(18) PairwiseRDD[66] at reduceByKey at <ipython-input-10-86bfd874cd9a>:8 [Memory Serialized 1x Replicated]\n",
      "       |   PythonRDD[65] at reduceByKey at <ipython-input-10-86bfd874cd9a>:8 [Memory Serialized 1x Replicated]\n",
      "       |   /loudacre/weblogs/*2.log MapPartitionsRDD[64] at textFile at NativeMethodAccessorImpl.java:-2 [Memory Serialized 1x Replicated]\n",
      "       |   /loudacre/weblogs/*2.log HadoopRDD[63] at textFile at NativeMethodAccessorImpl.java:-2 [Memory Serialized 1x Replicated]\n"
     ]
    }
   ],
   "source": [
    "print accountHits.toDebugString()"
   ]
  },
  {
   "cell_type": "code",
   "execution_count": 16,
   "metadata": {
    "collapsed": false
   },
   "outputs": [
    {
     "data": {
      "text/plain": [
       "PythonRDD[79] at RDD at PythonRDD.scala:43"
      ]
     },
     "execution_count": 16,
     "metadata": {},
     "output_type": "execute_result"
    }
   ],
   "source": [
    "accountHits.unpersist()\n",
    "accountHits.persist(StorageLevel.DISK_ONLY)"
   ]
  },
  {
   "cell_type": "code",
   "execution_count": 17,
   "metadata": {
    "collapsed": false
   },
   "outputs": [
    {
     "data": {
      "text/plain": [
       "5872"
      ]
     },
     "execution_count": 17,
     "metadata": {},
     "output_type": "execute_result"
    }
   ],
   "source": [
    "accountHits.filter(lambda (firstlast, hitcount): hitcount > 5)\\\n",
    "    .count()"
   ]
  },
  {
   "cell_type": "code",
   "execution_count": null,
   "metadata": {
    "collapsed": true
   },
   "outputs": [],
   "source": []
  }
 ],
 "metadata": {
  "kernelspec": {
   "display_name": "Python 2",
   "language": "python",
   "name": "python2"
  },
  "language_info": {
   "codemirror_mode": {
    "name": "ipython",
    "version": 2
   },
   "file_extension": ".py",
   "mimetype": "text/x-python",
   "name": "python",
   "nbconvert_exporter": "python",
   "pygments_lexer": "ipython2",
   "version": "2.7.8"
  }
 },
 "nbformat": 4,
 "nbformat_minor": 1
}

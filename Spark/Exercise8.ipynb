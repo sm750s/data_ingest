{
 "cells": [
  {
   "cell_type": "code",
   "execution_count": 19,
   "metadata": {
    "collapsed": true
   },
   "outputs": [],
   "source": [
    "#  Find K Means of Loudacre device status locations\n",
    "# \n",
    "# Input data: file(s) with device status data (delimited by ',')\n",
    "# including latitude (4th field) and longitude (5th field) of device locations \n",
    "# (lat,lon of 0,0 indicates unknown location)\n",
    "\n",
    "# for a point p and an array of points, return the index in the array of the point closest to p\n",
    "def closestPoint(p, points):\n",
    "    bestIndex = 0\n",
    "    closest = float(\"+inf\")\n",
    "    # for each point in the array, calculate the distance to the test point, then return\n",
    "    # the index of the array point with the smallest distance\n",
    "    for i in range(len(points)):\n",
    "        dist = distanceSquared(p,points[i])\n",
    "        if dist < closest:\n",
    "            closest = dist\n",
    "            bestIndex = i\n",
    "    return bestIndex\n",
    "    \n",
    "# The squared distances between two points\n",
    "def distanceSquared(p1,p2):  \n",
    "    return (p1[0] - p2[0]) ** 2 + (p1[1] - p2[1]) ** 2\n",
    "\n",
    "# The sum of two points\n",
    "def addPoints(p1,p2):\n",
    "    return [p1[0] + p2[0], p1[1] + p2[1]]\n",
    "\n",
    "sc.setLogLevel(\"WARN\")\n",
    "\n",
    "# The files with device status data\n",
    "filename = \"/loudacre/devicestatus_etl/*\"\n",
    "    \n",
    "# K is the number of means (center points of clusters) to find\n",
    "K = 5\n",
    "\n",
    "# ConvergeDist -- the threshold \"distance\" between iterations at which we decide we are done\n",
    "convergeDist = .1\n"
   ]
  },
  {
   "cell_type": "code",
   "execution_count": 20,
   "metadata": {
    "collapsed": false,
    "scrolled": true
   },
   "outputs": [
    {
     "data": {
      "text/plain": [
       "PythonRDD[63] at RDD at PythonRDD.scala:43"
      ]
     },
     "execution_count": 20,
     "metadata": {},
     "output_type": "execute_result"
    }
   ],
   "source": [
    "# Split by delimiter, parse device status records into [latitude,longitude]\n",
    "# Filter out records where lat/long is unavailable -- ie: 0/0 points\n",
    "# TODO\n",
    "data = sc.textFile(filename)\\\n",
    "    .map(lambda line: line.split(','))\\\n",
    "    .map(lambda fields: [float(fields[3]), float(fields[4])])\\\n",
    "    .filter(lambda point: sum(point) != 0)\n",
    "\n",
    "data.persist()"
   ]
  },
  {
   "cell_type": "code",
   "execution_count": 21,
   "metadata": {
    "collapsed": false
   },
   "outputs": [
    {
     "name": "stdout",
     "output_type": "stream",
     "text": [
      "[[38.9948504687, -121.143310222], [34.4547031924, -119.401974175], [34.5422423413, -117.220946311], [34.4663292098, -117.356371941], [37.9377630394, -120.049375775]]\n"
     ]
    }
   ],
   "source": [
    "# start with K randomly selected points from the dataset\n",
    "kPoints = data.takeSample(False, K, 42)\n",
    "\n",
    "print kPoints"
   ]
  },
  {
   "cell_type": "code",
   "execution_count": 22,
   "metadata": {
    "collapsed": false
   },
   "outputs": [
    {
     "name": "stdout",
     "output_type": "stream",
     "text": [
      "New Points: [(0, (40.1999574315597, -121.67296832795374)), (1, (35.07898372067377, -119.34511903963728)), (2, (34.70668834236743, -113.61942449461408)), (3, (34.11289318985722, -117.7607070177809)), (4, (37.976502391686815, -119.53172623300165))]\n",
      "Distance between iterations: 15.681646727\n",
      "New Points: [(0, (40.86120053140143, -121.70250534673397)), (1, (35.47676583827796, -119.71682875447316)), (2, (35.03499273350572, -112.66709702333176)), (3, (34.15114904969298, -117.62285483461865)), (4, (37.99114145914194, -120.5420507156219))]\n",
      "Distance between iterations: 2.79066158125\n",
      "New Points: [(0, (43.22938065827063, -121.38277267611755)), (1, (35.736757194335446, -119.77273043738784)), (2, (35.084610542101686, -112.57140921184987)), (3, (34.174397667475574, -117.60476094852889)), (4, (38.18001684669112, -121.29558025491399))]\n",
      "Distance between iterations: 6.39719324708\n",
      "New Points: [(0, (43.84979744826286, -121.29020013479062)), (1, (36.00358819723915, -119.83855791374319)), (2, (35.084610542101686, -112.57140921184987)), (3, (34.1764437515513, -117.61229685543312)), (4, (38.37973094470827, -121.43140100037328))]\n",
      "Distance between iterations: 0.527412681663\n",
      "New Points: [(0, (43.9819074452933, -121.3919786434441)), (1, (36.02712184249545, -119.85964128196657)), (2, (35.084610542101686, -112.57140921184987)), (3, (34.17776100620593, -117.61677907217647)), (4, (38.42951233239245, -121.39086050473391))]\n",
      "Distance between iterations: 0.032953800787\n",
      "Final center points:  [(43.9819074452933, -121.3919786434441), (36.02712184249545, -119.85964128196657), (35.084610542101686, -112.57140921184987), (34.17776100620593, -117.61677907217647), (38.42951233239245, -121.39086050473391)]\n"
     ]
    }
   ],
   "source": [
    "# loop until the total distance between one iteration's points and the next is less than the convergence distance specified\n",
    "tempDist = float(\"+inf\")\n",
    "while tempDist > convergeDist:\n",
    "    # for each point, find the index of the closest kpoint.  map to (index, (point,1))\n",
    "    closest = data.map(lambda point: (closestPoint(point, kPoints), (point, 1)))\n",
    "    \n",
    "    # For each key (k-point index), reduce by adding the coordinates and number of points\n",
    "    pointStats = closest.reduceByKey(lambda (p1, v1),(p2,v2): (addPoints(p1,p2), v1+v2))\n",
    "    \n",
    "    # For each key (k-point index), find a new point by calculating the average of each closest point\n",
    "    newPoints = pointStats.map(lambda (i, (p,v)): (i, (p[0]/v, p[1]/v))).collect()\n",
    "    \n",
    "    print \"New Points:\",newPoints\n",
    "    \n",
    "    # calculate the total of the distance between the current points and new points\n",
    "    tempDist = 0\n",
    "    for (i, point) in newPoints:\n",
    "        tempDist += distanceSquared(kPoints[i], point)\n",
    "    \n",
    "    print \"Distance between iterations:\",tempDist\n",
    "    \n",
    "    # Copy the new points to the kPoints array for the next iteration\n",
    "    for (i, point) in newPoints:\n",
    "        kPoints[i] = point\n",
    "    \n",
    "# Display the final points\n",
    "print \"Final center points: \",str(kPoints)"
   ]
  },
  {
   "cell_type": "code",
   "execution_count": null,
   "metadata": {
    "collapsed": true
   },
   "outputs": [],
   "source": []
  }
 ],
 "metadata": {
  "kernelspec": {
   "display_name": "Python 2",
   "language": "python",
   "name": "python2"
  },
  "language_info": {
   "codemirror_mode": {
    "name": "ipython",
    "version": 2
   },
   "file_extension": ".py",
   "mimetype": "text/x-python",
   "name": "python",
   "nbconvert_exporter": "python",
   "pygments_lexer": "ipython2",
   "version": "2.7.8"
  }
 },
 "nbformat": 4,
 "nbformat_minor": 1
}

{
 "cells": [
  {
   "cell_type": "code",
   "execution_count": 1,
   "metadata": {
    "collapsed": false
   },
   "outputs": [
    {
     "data": {
      "text/plain": [
       "u'1.6.0'"
      ]
     },
     "execution_count": 1,
     "metadata": {},
     "output_type": "execute_result"
    }
   ],
   "source": [
    "sc.version"
   ]
  },
  {
   "cell_type": "code",
   "execution_count": 2,
   "metadata": {
    "collapsed": true
   },
   "outputs": [],
   "source": [
    "# Stub code to copy into Spark Shell\n",
    "\n",
    "import xml.etree.ElementTree as ElementTree\n",
    "\n",
    "# Optional: Set logging level to WARN to reduce distracting info messages\n",
    "sc.setLogLevel(\"WARN\")  \n",
    "\n",
    "# Given a string containing XML, parse the string, and \n",
    "# return an iterator of activation XML records (Elements) contained in the string\n",
    "\n",
    "def getActivations(s):\n",
    "    filetree = ElementTree.fromstring(s)\n",
    "    return filetree.getiterator('activation')\n",
    "    \n",
    "# Given an activation record (XML Element), return the model name\n",
    "def getModel(activation):\n",
    "    return activation.find('model').text \n",
    "\n",
    "# Given an activation record (XML Element), return the account number \n",
    "def getAccount(activation):\n",
    "    return activation.find('account-number').text \n"
   ]
  },
  {
   "cell_type": "code",
   "execution_count": 3,
   "metadata": {
    "collapsed": true
   },
   "outputs": [],
   "source": [
    "xmlFiles = \"/loudacre/activations/*\"\n",
    "xmlRDD = sc.wholeTextFiles(xmlFiles)"
   ]
  },
  {
   "cell_type": "code",
   "execution_count": 7,
   "metadata": {
    "collapsed": false
   },
   "outputs": [],
   "source": [
    "activationRDD = xmlRDD.flatMap(lambda (fname, s): getActivations(s))\n",
    "accountModelRDD = activationRDD.map(lambda activation: getAccount(activation) + \":\" + getModel(activation))"
   ]
  },
  {
   "cell_type": "code",
   "execution_count": 8,
   "metadata": {
    "collapsed": true
   },
   "outputs": [],
   "source": [
    "accountModelRDD.saveAsTextFile(\"/loudacre/account-models\")"
   ]
  },
  {
   "cell_type": "code",
   "execution_count": null,
   "metadata": {
    "collapsed": true
   },
   "outputs": [],
   "source": []
  }
 ],
 "metadata": {
  "kernelspec": {
   "display_name": "Python 2",
   "language": "python",
   "name": "python2"
  },
  "language_info": {
   "codemirror_mode": {
    "name": "ipython",
    "version": 2
   },
   "file_extension": ".py",
   "mimetype": "text/x-python",
   "name": "python",
   "nbconvert_exporter": "python",
   "pygments_lexer": "ipython2",
   "version": "2.7.8"
  }
 },
 "nbformat": 4,
 "nbformat_minor": 1
}

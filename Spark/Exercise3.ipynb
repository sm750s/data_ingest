{
 "cells": [
  {
   "cell_type": "code",
   "execution_count": 8,
   "metadata": {
    "collapsed": true
   },
   "outputs": [],
   "source": [
    "logFiles = \"/loudacre/weblogs/*2.log\"\n",
    "userCountRDD = sc.textFile(logFiles)\\\n",
    "    .map(lambda line: (line.split(' ')[2], 1))\\\n",
    "    .reduceByKey(lambda v1,v2: v1+v2)"
   ]
  },
  {
   "cell_type": "code",
   "execution_count": 9,
   "metadata": {
    "collapsed": false
   },
   "outputs": [
    {
     "data": {
      "text/plain": [
       "[(u'3922', 6), (u'104959', 2)]"
      ]
     },
     "execution_count": 9,
     "metadata": {},
     "output_type": "execute_result"
    }
   ],
   "source": [
    "userCountRDD.take(2)"
   ]
  },
  {
   "cell_type": "code",
   "execution_count": 10,
   "metadata": {
    "collapsed": true
   },
   "outputs": [],
   "source": [
    "countRDD = userCountRDD.map(lambda (userId, count): (count, userId))"
   ]
  },
  {
   "cell_type": "code",
   "execution_count": 11,
   "metadata": {
    "collapsed": false
   },
   "outputs": [
    {
     "data": {
      "text/plain": [
       "[(6, u'3922'), (2, u'104959')]"
      ]
     },
     "execution_count": 11,
     "metadata": {},
     "output_type": "execute_result"
    }
   ],
   "source": [
    "countRDD.take(2)"
   ]
  },
  {
   "cell_type": "code",
   "execution_count": 12,
   "metadata": {
    "collapsed": true
   },
   "outputs": [],
   "source": [
    "countMap = countRDD.countByKey()"
   ]
  },
  {
   "cell_type": "code",
   "execution_count": 13,
   "metadata": {
    "collapsed": false
   },
   "outputs": [
    {
     "name": "stdout",
     "output_type": "stream",
     "text": [
      "defaultdict(<type 'int'>, {128: 9, 2: 7239, 3: 36, 4: 4155, 5: 26, 6: 2162, 7: 14, 8: 1409, 9: 14, 10: 878, 11: 12, 12: 549, 13: 7, 14: 308, 15: 8, 16: 155, 17: 4, 146: 8, 19: 2, 20: 41, 21: 1, 22: 17, 150: 11, 152: 11, 132: 12, 154: 5, 27: 1, 156: 5, 158: 6, 160: 8, 162: 5, 164: 3, 134: 9, 166: 3, 168: 4, 170: 3, 172: 6, 174: 2, 24: 6, 176: 2, 136: 11, 178: 1, 188: 1, 138: 6, 190: 1, 130: 10, 140: 14, 142: 8, 86: 1, 144: 7, 100: 1, 104: 1, 106: 1, 18: 76, 110: 4, 112: 1, 116: 1, 118: 4, 120: 5, 148: 2, 122: 4, 124: 7, 126: 5})\n"
     ]
    }
   ],
   "source": [
    "print countMap"
   ]
  },
  {
   "cell_type": "code",
   "execution_count": 16,
   "metadata": {
    "collapsed": true
   },
   "outputs": [],
   "source": [
    "userIdIpRDD = sc.textFile(logFiles)\\\n",
    "    .map(lambda line: line.split(' '))\\\n",
    "    .map(lambda fields: (fields[2], fields[0]))\\\n",
    "    .groupByKey()"
   ]
  },
  {
   "cell_type": "code",
   "execution_count": 17,
   "metadata": {
    "collapsed": false
   },
   "outputs": [
    {
     "data": {
      "text/plain": [
       "[(u'3922', <pyspark.resultiterable.ResultIterable at 0x7f39489705d0>),\n",
       " (u'104959', <pyspark.resultiterable.ResultIterable at 0x7f3948989590>)]"
      ]
     },
     "execution_count": 17,
     "metadata": {},
     "output_type": "execute_result"
    }
   ],
   "source": [
    "userIdIpRDD.take(2)"
   ]
  },
  {
   "cell_type": "code",
   "execution_count": 20,
   "metadata": {
    "collapsed": true
   },
   "outputs": [],
   "source": [
    "accountFiles = \"/loudacre/accounts/*\"\n",
    "accountRDD = sc.textFile(accountFiles)\\\n",
    "    .map(lambda line: line.split(','))\\\n",
    "    .map(lambda fields: (fields[0], fields))"
   ]
  },
  {
   "cell_type": "code",
   "execution_count": 21,
   "metadata": {
    "collapsed": false
   },
   "outputs": [
    {
     "data": {
      "text/plain": [
       "[(u'1',\n",
       "  [u'1',\n",
       "   u'2008-10-23 16:05:05.0',\n",
       "   u'\\\\N',\n",
       "   u'Donald',\n",
       "   u'Becton',\n",
       "   u'2275 Washburn Street',\n",
       "   u'Oakland',\n",
       "   u'CA',\n",
       "   u'94660',\n",
       "   u'5100032418',\n",
       "   u'2014-03-18 13:29:47.0',\n",
       "   u'2014-03-18 13:29:47.0']),\n",
       " (u'2',\n",
       "  [u'2',\n",
       "   u'2008-11-12 03:00:01.0',\n",
       "   u'\\\\N',\n",
       "   u'Donna',\n",
       "   u'Jones',\n",
       "   u'3885 Elliott Street',\n",
       "   u'San Francisco',\n",
       "   u'CA',\n",
       "   u'94171',\n",
       "   u'4150835799',\n",
       "   u'2014-03-18 13:29:47.0',\n",
       "   u'2014-03-18 13:29:47.0'])]"
      ]
     },
     "execution_count": 21,
     "metadata": {},
     "output_type": "execute_result"
    }
   ],
   "source": [
    "accountRDD.take(2)"
   ]
  },
  {
   "cell_type": "code",
   "execution_count": 22,
   "metadata": {
    "collapsed": true
   },
   "outputs": [],
   "source": [
    "accountHitRDD = accountRDD.join(userCountRDD)"
   ]
  },
  {
   "cell_type": "code",
   "execution_count": 23,
   "metadata": {
    "collapsed": false
   },
   "outputs": [
    {
     "data": {
      "text/plain": [
       "[(u'89371',\n",
       "  ([u'89371',\n",
       "    u'2013-09-08 02:21:15.0',\n",
       "    u'2014-01-19 12:17:06.0',\n",
       "    u'Ricky',\n",
       "    u'Pope',\n",
       "    u'4535 Highland Drive',\n",
       "    u'Portland',\n",
       "    u'OR',\n",
       "    u'97212',\n",
       "    u'5033136196',\n",
       "    u'2014-03-18 13:32:36.0',\n",
       "    u'2014-03-18 13:32:36.0'],\n",
       "   4)),\n",
       " (u'99996',\n",
       "  ([u'99996',\n",
       "    u'2013-03-14 19:19:45.0',\n",
       "    u'2014-02-07 16:32:29.0',\n",
       "    u'Garrett',\n",
       "    u'Allen',\n",
       "    u'495 Wilson Street',\n",
       "    u'Prescott',\n",
       "    u'AZ',\n",
       "    u'86360',\n",
       "    u'9280545713',\n",
       "    u'2014-03-18 13:32:56.0',\n",
       "    u'2014-03-18 13:32:56.0'],\n",
       "   2))]"
      ]
     },
     "execution_count": 23,
     "metadata": {},
     "output_type": "execute_result"
    }
   ],
   "source": [
    "accountHitRDD.take(2)"
   ]
  },
  {
   "cell_type": "code",
   "execution_count": 28,
   "metadata": {
    "collapsed": false
   },
   "outputs": [
    {
     "name": "stdout",
     "output_type": "stream",
     "text": [
      "89371 4 Ricky Pope\n",
      "99996 2 Garrett Allen\n",
      "69171 6 Richard Tarver\n",
      "90311 2 David Rosenberg\n",
      "36848 6 Aaron Hutson\n"
     ]
    }
   ],
   "source": [
    "for (userid, (accounts, hit)) in accountHitRDD.take(5):\n",
    "    print userid,hit,accounts[3],accounts[4]"
   ]
  },
  {
   "cell_type": "code",
   "execution_count": 38,
   "metadata": {
    "collapsed": false
   },
   "outputs": [],
   "source": [
    "postalRDD = sc.textFile(accountFiles)\\\n",
    "    .keyBy(lambda line: line.split(',')[8])\\\n",
    "    .mapValues(lambda value: value.split(',')[3] + \",\" + value.split(',')[4])\\\n",
    "    .groupByKey()\\\n",
    "    .sortByKey()"
   ]
  },
  {
   "cell_type": "code",
   "execution_count": 39,
   "metadata": {
    "collapsed": false
   },
   "outputs": [
    {
     "name": "stdout",
     "output_type": "stream",
     "text": [
      "--- 85000\n",
      "Harvey,Allen\n",
      "Daniel,Prinz\n",
      "Robert,Pascale\n",
      "Donna,Brookes\n",
      "James,Mackenzie\n",
      "Robert,Chamberlain\n",
      "Richard,Cunningham\n",
      "Bailey,Sewell\n",
      "Daniel,Marin\n",
      "--- 85001\n",
      "Frances,Mendelsohn\n",
      "Mary,Watson\n",
      "Donald,Brookover\n",
      "Brandon,Hathaway\n",
      "Crystal,Leonard\n",
      "Carrie,Moran\n",
      "Marie,Kirksey\n",
      "Issac,Lance\n",
      "Vesta,Barnes\n",
      "Eva,Fiore\n",
      "Keith,Tucker\n",
      "Danielle,Medford\n",
      "Norman,Spell\n",
      "Shelley,Soto\n",
      "Kathy,Frantz\n",
      "Timothy,Wilkins\n",
      "Joseph,Snyder\n",
      "Delbert,Flores\n",
      "Gail,Eakes\n",
      "Bert,Daniels\n",
      "Vincent,Carpenter\n",
      "--- 85002\n",
      "Ruby,Whitney\n",
      "David,Perry\n",
      "Marianne,James\n",
      "Nancy,Holiman\n",
      "Allen,Roman\n",
      "Donna,Manus\n",
      "Nancy,Reed\n",
      "Estella,Baird\n",
      "James,Gilbert\n",
      "David,McKay\n",
      "Laura,Clark\n",
      "John,Horn\n",
      "Jessica,Payne\n",
      "Bryant,Stewart\n",
      "Jose,Jones\n",
      "Wesley,Robinson\n",
      "--- 85003\n",
      "Mark,Martin\n",
      "Vivian,Ross\n",
      "Harry,Tabor\n",
      "Kyle,Strickland\n",
      "Kevin,Dvorak\n",
      "Virginia,Wisniewski\n",
      "Catherine,Gibson\n",
      "Lindsey,Thies\n",
      "--- 85004\n",
      "Mary,Kitts\n",
      "Kevin,Viola\n",
      "Tonya,Meadows\n",
      "Sherry,Royalty\n",
      "Greg,Collins\n",
      "Joseph,Shirley\n",
      "Sandra,White\n",
      "Timothy,Stern\n",
      "Dominic,Johnson\n",
      "Mary,Dewitt\n",
      "Matthew,Carpenter\n",
      "Annie,Ball\n",
      "Kathleen,Pate\n",
      "Carrie,Lish\n"
     ]
    }
   ],
   "source": [
    "for (postalCode, userNames) in postalRDD.take(5):\n",
    "    print '---',postalCode\n",
    "    for (userName) in userNames:\n",
    "        print userName"
   ]
  },
  {
   "cell_type": "code",
   "execution_count": null,
   "metadata": {
    "collapsed": true
   },
   "outputs": [],
   "source": []
  }
 ],
 "metadata": {
  "kernelspec": {
   "display_name": "Python 2",
   "language": "python",
   "name": "python2"
  },
  "language_info": {
   "codemirror_mode": {
    "name": "ipython",
    "version": 2
   },
   "file_extension": ".py",
   "mimetype": "text/x-python",
   "name": "python",
   "nbconvert_exporter": "python",
   "pygments_lexer": "ipython2",
   "version": "2.7.8"
  }
 },
 "nbformat": 4,
 "nbformat_minor": 1
}
